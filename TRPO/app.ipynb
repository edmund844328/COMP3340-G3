{
 "cells": [
  {
   "cell_type": "markdown",
   "id": "d5f04a56-175e-43ef-8c99-a7d1360c766c",
   "metadata": {},
   "source": [
    "# Trust Region Policy Optimization (TRPO) - Policy Gradient"
   ]
  },
  {
   "cell_type": "markdown",
   "id": "f0e63e0f-6c67-47f1-b2f6-3c64d98d6986",
   "metadata": {},
   "source": [
    "## Preparation\n",
    "\n",
    "Import packages"
   ]
  },
  {
   "cell_type": "code",
   "execution_count": 2,
   "id": "c6ef0527-8ed4-4ea8-b7a6-18d73dcf6039",
   "metadata": {},
   "outputs": [],
   "source": [
    "from torch.distributions import Categorical\n",
    "from pyvirtualdisplay import Display\n",
    "from tqdm.notebook import tqdm\n",
    "from IPython import display\n",
    "import matplotlib.pyplot as plt\n",
    "import numpy as np\n",
    "import gym\n",
    "import torch\n",
    "import torch.nn as nn\n",
    "import torch.optim as optim\n",
    "import torch.nn.functional as F"
   ]
  },
  {
   "cell_type": "markdown",
   "id": "4210de89-43e2-4ace-8f87-743a3e15af43",
   "metadata": {},
   "source": [
    "Set up the gym environment"
   ]
  },
  {
   "cell_type": "code",
   "execution_count": 3,
   "id": "20980f0d-791b-4c97-a89c-f7544fb9cae5",
   "metadata": {},
   "outputs": [],
   "source": [
    "env = gym.make(\n",
    "    \"LunarLander-v2\",\n",
    "    continuous=True,\n",
    "    render_mode=\"rgb_array\"\n",
    ")"
   ]
  },
  {
   "cell_type": "markdown",
   "id": "326f4923-6743-4f81-a6b6-f811d69a6119",
   "metadata": {},
   "source": [
    "Report the observation space and action space"
   ]
  },
  {
   "cell_type": "code",
   "execution_count": 4,
   "id": "9ab01747-52a1-48a9-bd74-db91d89fc5b2",
   "metadata": {},
   "outputs": [
    {
     "name": "stdout",
     "output_type": "stream",
     "text": [
      "Box([-1.5       -1.5       -5.        -5.        -3.1415927 -5.\n",
      " -0.        -0.       ], [1.5       1.5       5.        5.        3.1415927 5.        1.\n",
      " 1.       ], (8,), float32)\n",
      "Box(-1.0, 1.0, (2,), float32)\n"
     ]
    }
   ],
   "source": [
    "print(env.observation_space)\n",
    "print(env.action_space)"
   ]
  },
  {
   "cell_type": "markdown",
   "id": "24d5cf41-eea0-4cda-bd43-1afb6d9491dc",
   "metadata": {},
   "source": [
    "Reset the environment"
   ]
  },
  {
   "cell_type": "code",
   "execution_count": 5,
   "id": "1182e722-b21f-4dc1-bd65-e1539b0c5ee6",
   "metadata": {},
   "outputs": [
    {
     "name": "stdout",
     "output_type": "stream",
     "text": [
      "(array([-1.9168854e-04,  1.3991463e+00, -1.9430738e-02, -5.2327788e-01,\n",
      "        2.2889893e-04,  4.4013741e-03,  0.0000000e+00,  0.0000000e+00],\n",
      "      dtype=float32), {})\n"
     ]
    }
   ],
   "source": [
    "initial_state = env.reset()\n",
    "print(initial_state)"
   ]
  },
  {
   "cell_type": "markdown",
   "id": "10cf9b19-fab1-4ffe-bb21-73e4ce5657c4",
   "metadata": {},
   "source": [
    "## Random Agent"
   ]
  },
  {
   "cell_type": "code",
   "execution_count": 6,
   "id": "ee5f0368-51aa-4214-8ced-299f4f293dad",
   "metadata": {},
   "outputs": [
    {
     "data": {
      "image/png": "[encoded data removed]",
      "text/plain": [
       "<Figure size 640x480 with 1 Axes>"
      ]
     },
     "metadata": {},
     "output_type": "display_data"
    }
   ],
   "source": [
    "img = plt.imshow(env.render())\n",
    "\n",
    "done = False\n",
    "while not done:\n",
    "    action = env.action_space.sample()\n",
    "    observation, reward, done, _, _ = env.step(action)\n",
    "    \n",
    "    img.set_data(env.render())\n",
    "    display.display(plt.gcf())\n",
    "    display.clear_output(wait=True)"
   ]
  },
  {
   "cell_type": "code",
   "execution_count": null,
   "id": "460e8e22-f78f-4961-a5d5-e38b17df6ee3",
   "metadata": {},
   "outputs": [],
   "source": []
  }
 ],
 "metadata": {
  "kernelspec": {
   "display_name": "Python 3 (ipykernel)",
   "language": "python",
   "name": "python3"
  },
  "language_info": {
   "codemirror_mode": {
    "name": "ipython",
    "version": 3
   },
   "file_extension": ".py",
   "mimetype": "text/x-python",
   "name": "python",
   "nbconvert_exporter": "python",
   "pygments_lexer": "ipython3",
   "version": "3.9.13"
  }
 },
 "nbformat": 4,
 "nbformat_minor": 5
}
