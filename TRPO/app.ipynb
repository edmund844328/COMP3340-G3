{
 "cells": [
  {
   "cell_type": "markdown",
   "id": "d5f04a56-175e-43ef-8c99-a7d1360c766c",
   "metadata": {},
   "source": [
    "# Trust Region Policy Optimization (TRPO) - Policy Gradient"
   ]
  },
  {
   "cell_type": "markdown",
   "id": "f0e63e0f-6c67-47f1-b2f6-3c64d98d6986",
   "metadata": {},
   "source": [
    "## Preparation\n",
    "\n",
    "Import packages"
   ]
  },
  {
   "cell_type": "code",
   "execution_count": 2,
   "id": "c6ef0527-8ed4-4ea8-b7a6-18d73dcf6039",
   "metadata": {},
   "outputs": [],
   "source": [
    "%%capture\n",
    "import matplotlib.pyplot as plt\n",
    "import pyvirtualdisplay\n",
    "import numpy as np\n",
    "import IPython\n",
    "import torch\n",
    "import tqdm\n",
    "import gym\n",
    "%matplotlib inline"
   ]
  },
  {
   "cell_type": "markdown",
   "id": "c7bf8aa1-2fb0-438c-9a10-c30c3e2c286d",
   "metadata": {},
   "source": [
    "Set up the virtual display"
   ]
  },
  {
   "cell_type": "code",
   "execution_count": 3,
   "id": "4dee5b3c-a24e-4b87-a6ea-5b40f5d6ad2b",
   "metadata": {},
   "outputs": [
    {
     "data": {
      "text/plain": [
       "<pyvirtualdisplay.display.Display at 0x7f19ac373fd0>"
      ]
     },
     "execution_count": 3,
     "metadata": {},
     "output_type": "execute_result"
    }
   ],
   "source": [
    "virtual_display = pyvirtualdisplay.Display(visible=0, size=(1400,900))\n",
    "virtual_display.start()"
   ]
  },
  {
   "cell_type": "markdown",
   "id": "4210de89-43e2-4ace-8f87-743a3e15af43",
   "metadata": {},
   "source": [
    "Set up the gym environment"
   ]
  },
  {
   "cell_type": "code",
   "execution_count": 4,
   "id": "20980f0d-791b-4c97-a89c-f7544fb9cae5",
   "metadata": {},
   "outputs": [],
   "source": [
    "env = gym.make(\n",
    "    \"LunarLander-v2\",\n",
    "    continuous=True,\n",
    "    render_mode=\"rgb_array\"\n",
    ")"
   ]
  },
  {
   "cell_type": "markdown",
   "id": "326f4923-6743-4f81-a6b6-f811d69a6119",
   "metadata": {},
   "source": [
    "Report the observation space and action space"
   ]
  },
  {
   "cell_type": "code",
   "execution_count": 5,
   "id": "9ab01747-52a1-48a9-bd74-db91d89fc5b2",
   "metadata": {},
   "outputs": [
    {
     "name": "stdout",
     "output_type": "stream",
     "text": [
      "Box([-1.5       -1.5       -5.        -5.        -3.1415927 -5.\n",
      " -0.        -0.       ], [1.5       1.5       5.        5.        3.1415927 5.        1.\n",
      " 1.       ], (8,), float32)\n",
      "Box(-1.0, 1.0, (2,), float32)\n"
     ]
    }
   ],
   "source": [
    "print(env.observation_space)\n",
    "print(env.action_space)"
   ]
  },
  {
   "cell_type": "markdown",
   "id": "24d5cf41-eea0-4cda-bd43-1afb6d9491dc",
   "metadata": {},
   "source": [
    "Reset the environment"
   ]
  },
  {
   "cell_type": "code",
   "execution_count": 6,
   "id": "1182e722-b21f-4dc1-bd65-e1539b0c5ee6",
   "metadata": {},
   "outputs": [
    {
     "name": "stdout",
     "output_type": "stream",
     "text": [
      "(array([-0.00648212,  1.413409  , -0.65658194,  0.11060092,  0.00751793,\n",
      "        0.14872564,  0.        ,  0.        ], dtype=float32), {})\n"
     ]
    }
   ],
   "source": [
    "initial_state = env.reset()\n",
    "print(initial_state)"
   ]
  },
  {
   "cell_type": "markdown",
   "id": "10cf9b19-fab1-4ffe-bb21-73e4ce5657c4",
   "metadata": {},
   "source": [
    "## Random Agent"
   ]
  },
  {
   "cell_type": "code",
   "execution_count": 7,
   "id": "ee5f0368-51aa-4214-8ced-299f4f293dad",
   "metadata": {},
   "outputs": [
    {
     "name": "stderr",
     "output_type": "stream",
     "text": [
      "\n",
      "KeyboardInterrupt\n",
      "\n"
     ]
    },
    {
     "data": {
      "image/png": "[encoded data removed]",
      "text/plain": [
       "<Figure size 640x480 with 1 Axes>"
      ]
     },
     "metadata": {},
     "output_type": "display_data"
    }
   ],
   "source": [
    "img = plt.imshow(env.render())\n",
    "\n",
    "done = False\n",
    "while not done:\n",
    "    action = env.action_space.sample()\n",
    "    observation, reward, done, _, _ = env.step(action)\n",
    "    \n",
    "    img.set_data(env.render())\n",
    "    IPython.display.display(plt.gcf())\n",
    "    IPython.display.clear_output(wait=True)"
   ]
  },
  {
   "cell_type": "code",
   "execution_count": null,
   "id": "0309ef15-5cf5-4128-8976-188c440410e3",
   "metadata": {},
   "outputs": [],
   "source": []
  }
 ],
 "metadata": {
  "kernelspec": {
   "display_name": "Python 3 (ipykernel)",
   "language": "python",
   "name": "python3"
  },
  "language_info": {
   "codemirror_mode": {
    "name": "ipython",
    "version": 3
   },
   "file_extension": ".py",
   "mimetype": "text/x-python",
   "name": "python",
   "nbconvert_exporter": "python",
   "pygments_lexer": "ipython3",
   "version": "3.9.13"
  }
 },
 "nbformat": 4,
 "nbformat_minor": 5
}
