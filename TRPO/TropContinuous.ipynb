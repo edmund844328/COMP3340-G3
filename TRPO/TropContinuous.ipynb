{
  "nbformat": 4,
  "nbformat_minor": 0,
  "metadata": {
    "colab": {
      "provenance": [],
      "collapsed_sections": []
    },
    "kernelspec": {
      "name": "python3",
      "display_name": "Python 3"
    },
    "language_info": {
      "name": "python"
    }
  },
  "cells": [
    {
      "cell_type": "code",
      "source": [
        "!apt update\n",
        "!pip3 install gym[box2d]\n",
        "!pip3 install gym[classic_control]\n",
        "!pip3 install sb3-contrib\n",
        "!pip install stable-baselines3\n",
        "'''\n",
        "Using https://sb3-contrib.readthedocs.io/en/master/modules/trpo.html for TRPO algo implementation\n",
        "'''\n",
        "\n",
        "!apt-get install x11-utils > /dev/null 2>&1 \n",
        "!pip install pyglet > /dev/null 2>&1 \n",
        "!apt-get install -y xvfb python-opengl > /dev/null 2>&1\n",
        "!pip install gym pyvirtualdisplay > /dev/null 2>&1"
      ],
      "metadata": {
        "id": "c6WWhU7uclUg"
      },
      "execution_count": null,
      "outputs": []
    },
    {
      "cell_type": "code",
      "execution_count": 61,
      "metadata": {
        "id": "fyWXa3COZgqN"
      },
      "outputs": [],
      "source": [
        "# import numpy as np\n",
        "# import gym\n",
        "# import torch\n",
        "# import torch.optim as optim\n",
        "# import torch.nn as nn\n",
        "# import torch.nn.functional as F\n",
        "# import torch.distributions as D"
      ]
    },
    {
      "cell_type": "code",
      "source": [
        "import gym\n",
        "import matplotlib.pyplot as plt\n",
        "from IPython import display as ipythondisplay\n",
        "from sb3_contrib import TRPO\n",
        "from stable_baselines3.common.evaluation import evaluate_policy"
      ],
      "metadata": {
        "id": "roKV-wvqNayI"
      },
      "execution_count": 73,
      "outputs": []
    },
    {
      "cell_type": "code",
      "source": [
        "from pyvirtualdisplay import Display\n",
        "display = Display(visible=0, size=(400, 300))\n",
        "display.start()"
      ],
      "metadata": {
        "colab": {
          "base_uri": "https://localhost:8080/"
        },
        "id": "UA29fk4iRa9U",
        "outputId": "2d643b6a-e931-493a-b6eb-b2afc73e0e49"
      },
      "execution_count": 74,
      "outputs": [
        {
          "output_type": "execute_result",
          "data": {
            "text/plain": [
              "<pyvirtualdisplay.display.Display at 0x7fba1ae69290>"
            ]
          },
          "metadata": {},
          "execution_count": 74
        }
      ]
    },
    {
      "cell_type": "code",
      "source": [
        "# env = gym.make('LunarLander-v2')\n",
        "env = gym.make('LunarLander-v2',continuous=True)\n",
        "env.reset()\n",
        "print(\"sample action: \", env.action_space.sample())\n",
        "print(\"Obsevation space action: \", env.observation_space.shape)\n",
        "print(\"sample observation: \", env.observation_space.sample())"
      ],
      "metadata": {
        "id": "ohtb-3h3NfFo"
      },
      "execution_count": null,
      "outputs": []
    },
    {
      "cell_type": "code",
      "source": [
        "model = TRPO(\"MlpPolicy\", env, verbose=1)\n",
        "model.learn(total_timesteps=10000, log_interval=4)"
      ],
      "metadata": {
        "id": "MPUqLqD_XDeu"
      },
      "execution_count": null,
      "outputs": []
    },
    {
      "cell_type": "code",
      "source": [
        "#Testing random walks\n",
        "img = plt.imshow(env.render('rgb_array')) # only call this once\n",
        "prev_screen = env.render(mode='rgb_array')\n",
        "plt.imshow(prev_screen)\n",
        "\n",
        "episodes = 10\n",
        "for ep in range(episodes):\n",
        "  obs = env.reset()\n",
        "  done = False\n",
        "  while not done:\n",
        "    obs, reward, done, info = env.step(env.action_space.sample())\n",
        "    #for display\n",
        "    screen = env.render(mode='rgb_array')\n",
        "    plt.imshow(screen)\n",
        "    ipythondisplay.clear_output(wait=True)\n",
        "    ipythondisplay.display(plt.gcf())\n",
        "\n",
        "  if done:\n",
        "    break\n",
        "\n",
        "ipythondisplay.clear_output(wait=True)\n",
        "env.close()"
      ],
      "metadata": {
        "colab": {
          "base_uri": "https://localhost:8080/",
          "height": 269
        },
        "id": "vUUWAX6YOhLJ",
        "outputId": "810af8d3-05af-4282-fad2-2cb7baa05e66"
      },
      "execution_count": 69,
      "outputs": [
        {
          "output_type": "display_data",
          "data": {
            "text/plain": [
              "<Figure size 432x288 with 1 Axes>"
            ],
            "image/png": "[encoded data removed]"
          },
          "metadata": {
            "needs_background": "light"
          }
        }
      ]
    },
    {
      "cell_type": "code",
      "source": [
        "evaluate_policy(model, env, n_eval_episodes=10)"
      ],
      "metadata": {
        "colab": {
          "base_uri": "https://localhost:8080/"
        },
        "id": "unI5Q0CfZ3LU",
        "outputId": "4b6ce3ac-5d05-4aa4-d19c-dbcab7eed689"
      },
      "execution_count": 82,
      "outputs": [
        {
          "output_type": "execute_result",
          "data": {
            "text/plain": [
              "(-41.56011841564614, 65.61546782468425)"
            ]
          },
          "metadata": {},
          "execution_count": 82
        }
      ]
    },
    {
      "cell_type": "code",
      "source": [
        "img = plt.imshow(env.render('rgb_array')) # only call this once\n",
        "prev_screen = env.render(mode='rgb_array')\n",
        "plt.imshow(prev_screen)\n",
        "\n",
        "obs = env.reset()\n",
        "while True:\n",
        "  action, states = model.predict(obs)\n",
        "  obs, rewards, done, info = env.step(action)\n",
        "    #for display\n",
        "  screen = env.render(mode='rgb_array')\n",
        "  plt.imshow(screen)\n",
        "  ipythondisplay.clear_output(wait=True)\n",
        "  ipythondisplay.display(plt.gcf())\n",
        "\n",
        "ipythondisplay.clear_output(wait=True)\n",
        "env.close()"
      ],
      "metadata": {
        "colab": {
          "base_uri": "https://localhost:8080/",
          "height": 269
        },
        "id": "wKM2p4I-b1dM",
        "outputId": "16427a8b-b891-4af5-c4f9-3150f974cfbc"
      },
      "execution_count": null,
      "outputs": [
        {
          "output_type": "display_data",
          "data": {
            "text/plain": [
              "<Figure size 432x288 with 1 Axes>"
            ],
            "image/png": "[encoded data removed]"
          },
          "metadata": {}
        }
      ]
    }
  ]
}